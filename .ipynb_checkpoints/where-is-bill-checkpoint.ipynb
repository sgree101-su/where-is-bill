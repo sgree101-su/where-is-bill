{
 "cells": [
  {
   "cell_type": "markdown",
   "metadata": {},
   "source": [
    "# Where is Bill Project"
   ]
  },
  {
   "cell_type": "code",
   "execution_count": 128,
   "metadata": {},
   "outputs": [],
   "source": [
    "# Definition of functions\n",
    "\n",
    "def getrecentbill(query):\n",
    "    headers={ \"X-API-Key\": \"OL9rTNU3pOCB5FkqOWJH7hMAdmCZLS3GJU5NpLuV\" }\n",
    "    response = requests.get(url, headers=headers)\n",
    "    bill = response.json()\n",
    "    bill_data = []\n",
    "    for i in bill['results'][0]['bills']:\n",
    "        bills = {}\n",
    "        bill_data.append(bills)\n",
    "        bills['bill_id'] = i[\"bill_id\"]\n",
    "        bills['bill_title'] = i['title']\n",
    "        bills['latest_major_action_data'] = i['latest_major_action_date']\n",
    "        bills['latest_major_action'] = i['latest_major_action']\n",
    "    return bill_data"
   ]
  },
  {
   "cell_type": "code",
   "execution_count": 129,
   "metadata": {},
   "outputs": [
    {
     "name": "stdout",
     "output_type": "stream",
     "text": [
      "Please enter a subject: tax\n",
      "[{'bill_id': 'hr4470-115', 'bill_title': 'To amend the Internal Revenue Code of 1986 to provide a payroll tax exemption for hiring long-term unemployed individuals.', 'latest_major_action_data': '2017-11-28', 'latest_major_action': 'Referred to the House Committee on Ways and Means.'}, {'bill_id': 'hr4460-115', 'bill_title': 'To improve the provision of disaster and mitigation assistance to eligible individuals and households and to eligible State, local, Tribal, and territorial governments and certain private nonprofit organizations, and for other purposes.', 'latest_major_action_data': '2017-11-28', 'latest_major_action': 'Referred to the Committee on Transportation and Infrastructure, and in addition to the Committee on Financial Services, for a period to be subsequently determined by the Speaker, in each case for consideration of such provisions as fall within the jurisdiction of the committee concerned.'}, {'bill_id': 'hr1-115', 'bill_title': 'To provide for reconciliation pursuant to title II of the concurrent resolution on the budget for fiscal year 2018.', 'latest_major_action_data': '2017-11-28', 'latest_major_action': 'Read the second time. Placed on Senate Legislative Calendar under General Orders. Calendar No. 266.'}, {'bill_id': 'hr4473-115', 'bill_title': 'To amend the Internal Revenue Code of 1986 to allow tax credits to veterans for the establishment of franchises.', 'latest_major_action_data': '2017-11-28', 'latest_major_action': 'Referred to the House Committee on Ways and Means.'}, {'bill_id': 's1-115', 'bill_title': 'An original bill to provide for reconciliation pursuant to title II of the concurrent resolution on the budget for fiscal year 2018.', 'latest_major_action_data': '2017-11-28', 'latest_major_action': 'Placed on Senate Legislative Calendar under General Orders. Calendar No. 269.'}, {'bill_id': 'hr4455-115', 'bill_title': 'To amend the Robert T. Stafford Disaster Relief and Emergency Assistance Act to improve mitigation assistance, and for other purposes.', 'latest_major_action_data': '2017-11-22', 'latest_major_action': 'Referred to the Subcommittee on Aviation.'}, {'bill_id': 'hr4457-115', 'bill_title': 'To amend title 38, United States Code, to establish the Veterans Accountable Care Organization and to provide veterans access to private health insurance plans, and for other purposes.', 'latest_major_action_data': '2017-11-21', 'latest_major_action': \"Referred to the Committee on Veterans' Affairs, and in addition to the Committees on Ways and Means, Oversight and Government Reform, Energy and Commerce, and Armed Services, for a period to be subsequently determined by the Speaker, in each case for consideration of such provisions as fall within the jurisdiction of the committee concerned.\"}, {'bill_id': 'hr4221-115', 'bill_title': \"To amend the Violent Crime Control and Law Enforcement Act of 1994, to reauthorize the Missing Alzheimer's Disease Patient Alert Program, and to promote initiatives that will reduce the risk of injury and death relating to the wandering characteristics of some children with autism.\", 'latest_major_action_data': '2017-11-21', 'latest_major_action': 'Referred to the Subcommittee on Crime, Terrorism, Homeland Security, and Investigations.'}, {'bill_id': 's2070-115', 'bill_title': \"A bill to amend the Violent Crime Control and Law Enforcement Act of 1994, to reauthorize the Missing Alzheimer's Disease Patient Alert Program, and to promote initiatives that will reduce the risk of injury and death relating to the wandering characteristics of some children with autism.\", 'latest_major_action_data': '2017-11-16', 'latest_major_action': 'Committee on the Judiciary. Ordered to be reported with an amendment in the nature of a substitute favorably.'}, {'bill_id': 'hr4174-115', 'bill_title': 'To amend titles 5 and 44, United States Code, to require Federal evaluation activities, improve Federal data management, and for other purposes.', 'latest_major_action_data': '2017-11-16', 'latest_major_action': 'Received in the Senate and Read twice and referred to the Committee on Homeland Security and Governmental Affairs.'}, {'bill_id': 'hr4425-115', 'bill_title': 'To reform the safety net for farmers and ranchers, enhance soil, water, and habitat conservation, encourage beginning farmers and ranchers, strengthen nutrition for Americans, support agriculture research and innovation, reduce food waste, improve animal welfare, and invest in regional food systems, and for other purposes.', 'latest_major_action_data': '2017-11-16', 'latest_major_action': 'Referred to the Committee on Agriculture, and in addition to the Committees on Ways and Means, Education and the Workforce, and Foreign Affairs, for a period to be subsequently determined by the Speaker, in each case for consideration of such provisions as fall within the jurisdiction of the committee concerned.'}, {'bill_id': 'sres279-115', 'bill_title': 'A resolution reaffirming the commitment of the United States to promote democracy, human rights, and the rule of law in Cambodia.', 'latest_major_action_data': '2017-11-16', 'latest_major_action': 'Resolution agreed to in Senate with an amendment and an amended preamble by Unanimous Consent. (text: CR S7309-7310)'}, {'bill_id': 'sres341-115', 'bill_title': 'A resolution designating the week beginning November 13, 2017, as \"National Apprenticeship Week\".', 'latest_major_action_data': '2017-11-16', 'latest_major_action': 'Referred to the Committee on the Judiciary. (text of measure as introduced: CR S7306)'}, {'bill_id': 's2155-115', 'bill_title': 'A bill to promote economic growth, provide tailored regulatory relief, and enhance consumer protections, and for other purposes.', 'latest_major_action_data': '2017-11-16', 'latest_major_action': 'Read twice and referred to the Committee on Banking, Housing, and Urban Affairs.'}, {'bill_id': 'hr4416-115', 'bill_title': 'To amend the Higher Education Act of 1965 to remove barriers for students seeking Federal financial aid by reducing the complexity and length of the Free Application for Federal Student Aid (FAFSA) and increasing support for working students and vulnerable populations.', 'latest_major_action_data': '2017-11-16', 'latest_major_action': 'Referred to the House Committee on Education and the Workforce.'}, {'bill_id': 'hres622-115', 'bill_title': 'Supporting the designation of the week beginning November 13, 2017, as \"National Apprenticeship Week\".', 'latest_major_action_data': '2017-11-15', 'latest_major_action': 'Referred to the House Committee on Education and the Workforce.'}, {'bill_id': 'hr4397-115', 'bill_title': 'To provide tax relief with respect to California wildfires.', 'latest_major_action_data': '2017-11-15', 'latest_major_action': 'Referred to the Committee on Ways and Means, and in addition to the Committee on the Budget, for a period to be subsequently determined by the Speaker, in each case for consideration of such provisions as fall within the jurisdiction of the committee concerned.'}, {'bill_id': 'hr4266-115', 'bill_title': 'To clarify the boundary of Acadia National Park, and for other purposes.', 'latest_major_action_data': '2017-11-15', 'latest_major_action': 'Subcommittee Hearings Held.'}, {'bill_id': 'hres621-115', 'bill_title': 'Impeaching Donald J. Trump, President of the United States, of high crimes and misdemeanors.', 'latest_major_action_data': '2017-11-15', 'latest_major_action': 'Referred to the House Committee on the Judiciary.'}, {'bill_id': 'hr4402-115', 'bill_title': 'To amend section 479(c) of the Higher Education Act of 1965 to clarify when the Secretary shall consider an independent student without dependents to have an expected family contribution equal to zero.', 'latest_major_action_data': '2017-11-15', 'latest_major_action': 'Referred to the House Committee on Education and the Workforce.'}]\n"
     ]
    }
   ],
   "source": [
    "# Main program\n",
    "\n",
    "import json\n",
    "import requests\n",
    "\n",
    "\n",
    "query = input(\"Please enter a subject: \")\n",
    "url = \"https://api.propublica.org/congress/v1/bills/search.json?query=\" + query\n",
    "bill_data = getrecentbill(subject)\n",
    "print(bill_data)\n"
   ]
  },
  {
   "cell_type": "code",
   "execution_count": null,
   "metadata": {
    "collapsed": true
   },
   "outputs": [],
   "source": []
  },
  {
   "cell_type": "code",
   "execution_count": null,
   "metadata": {
    "collapsed": true
   },
   "outputs": [],
   "source": []
  }
 ],
 "metadata": {
  "kernelspec": {
   "display_name": "Python 3",
   "language": "python",
   "name": "python3"
  },
  "language_info": {
   "codemirror_mode": {
    "name": "ipython",
    "version": 3
   },
   "file_extension": ".py",
   "mimetype": "text/x-python",
   "name": "python",
   "nbconvert_exporter": "python",
   "pygments_lexer": "ipython3",
   "version": "3.6.1"
  }
 },
 "nbformat": 4,
 "nbformat_minor": 2
}
