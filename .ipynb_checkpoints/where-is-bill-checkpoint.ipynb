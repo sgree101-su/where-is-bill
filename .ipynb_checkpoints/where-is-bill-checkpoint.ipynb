{
 "cells": [
  {
   "cell_type": "markdown",
   "metadata": {},
   "source": [
    "# Where is Bill Project"
   ]
  },
  {
   "cell_type": "code",
   "execution_count": 2,
   "metadata": {
    "collapsed": true
   },
   "outputs": [],
   "source": [
    "# Definition of functions\n",
    "\n",
    "\n",
    "def getrecentbill(query):\n",
    "    url = \"https://api.propublica.org/congress/v1/bills/search.json\"\n",
    "    headers={ \"X-API-Key\": \"OL9rTNU3pOCB5FkqOWJH7hMAdmCZLS3GJU5NpLuV\" }\n",
    "    params = {'query' : query}\n",
    "    response = requests.get(url, headers=headers, params=params)\n",
    "    bill = response.json()\n",
    "    bill_data = []\n",
    "    for i in bill['results'][0]['bills']:\n",
    "        bills = {}\n",
    "        bill_data.append(bills)\n",
    "        bills['bill_id'] = i[\"bill_id\"]\n",
    "        bills['bill_title'] = i['title']\n",
    "        bills['latest_major_action_data'] = i['latest_major_action_date']\n",
    "        bills['latest_major_action'] = i['latest_major_action']\n",
    "    return bill_data\n",
    "    \n",
    "\n",
    "\n",
    "def get_legislators_by_zipcode(zipcode):\n",
    "    url = 'https://congress.api.sunlightfoundation.com/legislators/locate'\n",
    "    query = {'apikey' : SUNLIGHT_API_KEY, 'zip' : zipcode}\n",
    "    r = requests.get(url, data=query)\n",
    "    results = json.loads(r.text)['results']\n",
    "    return results"
   ]
  },
  {
   "cell_type": "code",
   "execution_count": 3,
   "metadata": {},
   "outputs": [
    {
     "name": "stdout",
     "output_type": "stream",
     "text": [
      "#####Main Menu#####\n",
      "\n",
      "1. Get recent bills\n",
      "2. xxx\n",
      "3. xxx\n",
      "\n",
      "Please enter a choice: 1\n",
      "What subjects are you interest in: guns voting\n",
      "[{'bill_id': 'hr1-115', 'bill_title': 'To provide for reconciliation pursuant to title II of the concurrent resolution on the budget for fiscal year 2018.', 'latest_major_action_data': '2017-11-29', 'latest_major_action': 'Motion by Senator Wyden to commit to Senate Committee on Finance with instructions rejected in Senate by Yea-Nay Vote. 48 - 51. Record Vote Number: 285.'}, {'bill_id': 'hr4476-115', 'bill_title': 'To modernize the Public Utility Regulatory Policies Act of 1978, and for other purposes.', 'latest_major_action_data': '2017-11-29', 'latest_major_action': 'Referred to the House Committee on Energy and Commerce.'}, {'bill_id': 'hr3312-115', 'bill_title': 'To amend the Dodd-Frank Wall Street Reform and Consumer Protection Act to specify when bank holding companies may be subject to certain enhanced supervision, and for other purposes.', 'latest_major_action_data': '2017-11-28', 'latest_major_action': 'Placed on the Union Calendar, Calendar No. 313.'}, {'bill_id': 's1885-115', 'bill_title': 'A bill to support the development of highly automated vehicle safety technologies, and for other purposes.', 'latest_major_action_data': '2017-11-28', 'latest_major_action': 'Placed on Senate Legislative Calendar under General Orders. Calendar No. 268.'}, {'bill_id': 's1-115', 'bill_title': 'An original bill to provide for reconciliation pursuant to title II of the concurrent resolution on the budget for fiscal year 2018.', 'latest_major_action_data': '2017-11-28', 'latest_major_action': 'Placed on Senate Legislative Calendar under General Orders. Calendar No. 269.'}, {'bill_id': 'hr4153-115', 'bill_title': 'To amend title 18, United States Code, to improve safety and security for service weapons used by Federal law enforcement officers, and for other purposes.', 'latest_major_action_data': '2017-11-17', 'latest_major_action': 'Referred to the Subcommittee on Crime, Terrorism, Homeland Security, and Investigations.'}, {'bill_id': 'hr2810-115', 'bill_title': 'To authorize appropriations for fiscal year 2018 for military activities of the Department of Defense and for military construction, to prescribe military personnel strengths for such fiscal year, and for other purposes.', 'latest_major_action_data': '2017-11-16', 'latest_major_action': 'Message on Senate action sent to the House.'}, {'bill_id': 's2150-115', 'bill_title': 'A bill to improve requirements for entering into commerce of imitation firearms, and for other purposes.', 'latest_major_action_data': '2017-11-16', 'latest_major_action': 'Read twice and referred to the Committee on Commerce, Science, and Transportation.'}, {'bill_id': 'hr4015-115', 'bill_title': 'To improve the quality of proxy advisory firms for the protection of investors and the U.S. economy, and in the public interest, by fostering accountability, transparency, responsiveness, and competition in the proxy advisory firm industry.', 'latest_major_action_data': '2017-11-15', 'latest_major_action': 'Ordered to be Reported by the Yeas and Nays: 40 - 20.'}, {'bill_id': 'hr2874-115', 'bill_title': 'To achieve reforms to improve the financial stability of the National Flood Insurance Program, to enhance the development of more accurate estimates of flood risk through new technology and better maps, to increase the role of private markets in the management of flood insurance risks, and to provide for alternative methods to insure against flood peril, and for other purposes.', 'latest_major_action_data': '2017-11-15', 'latest_major_action': 'Received in the Senate and Read twice and referred to the Committee on Banking, Housing, and Urban Affairs.'}, {'bill_id': 'hr4130-115', 'bill_title': 'To amend title 9, United States Code, with respect to arbitration.', 'latest_major_action_data': '2017-11-14', 'latest_major_action': 'Referred to the Subcommittee on Regulatory Reform, Commercial And Antitrust Law.'}, {'bill_id': 'hr4383-115', 'bill_title': 'To reform the Internal Revenue Code of 1986.', 'latest_major_action_data': '2017-11-14', 'latest_major_action': 'Referred to the House Committee on Ways and Means.'}, {'bill_id': 'hr2201-115', 'bill_title': 'To amend the Securities Act of 1933 to exempt certain micro-offerings from the registration requirements of such Act, and for other purposes.', 'latest_major_action_data': '2017-11-13', 'latest_major_action': 'Received in the Senate and Read twice and referred to the Committee on Banking, Housing, and Urban Affairs.'}, {'bill_id': 'hr4311-115', 'bill_title': 'To modernize and strengthen the Committee on Foreign Investment in the United States to more effectively guard against the risk to the national security of the United States posed by certain types of foreign investment, and for other purposes.', 'latest_major_action_data': '2017-11-08', 'latest_major_action': 'Referred to the Committee on Financial Services, and in addition to the Committees on Energy and Commerce, Foreign Affairs, Intelligence (Permanent Select), Armed Services, and the Budget, for a period to be subsequently determined by the Speaker, in each case for consideration of such provisions as fall within the jurisdiction of the committee concerned.'}, {'bill_id': 's2098-115', 'bill_title': 'A bill to modernize and strengthen the Committee on Foreign Investment in the United States to more effectively guard against the risk to the national security of the United States posed by certain types of foreign investment, and for other purposes.', 'latest_major_action_data': '2017-11-08', 'latest_major_action': 'Read twice and referred to the Committee on Banking, Housing, and Urban Affairs. (text of measure as introduced: CR S7111-7118)'}, {'bill_id': 's2095-115', 'bill_title': 'A bill to regulate assault weapons, to ensure that the right to keep and bear arms is not unlimited, and for other purposes.', 'latest_major_action_data': '2017-11-08', 'latest_major_action': 'Read twice and referred to the Committee on the Judiciary. (Sponsor introductory remarks on measure: CR S7118-7119)'}, {'bill_id': 's2106-115', 'bill_title': 'A bill to require States to automatically register eligible voters at the time they turn 18 to vote in Federal elections, and for other purposes.', 'latest_major_action_data': '2017-11-08', 'latest_major_action': 'Read twice and referred to the Committee on Rules and Administration.'}, {'bill_id': 'hr4268-115', 'bill_title': 'To amend title 18, United States Code, to provide for a 7-day waiting period before a semiautomatic firearm, a silencer, armor piercing ammunition, or a large capacity ammunition magazine may be transferred.', 'latest_major_action_data': '2017-11-07', 'latest_major_action': 'Referred to the House Committee on the Judiciary.'}, {'bill_id': 'hr4276-115', 'bill_title': 'To amend the Help America Vote Act of 2002 to require voting systems used in elections for Federal office to produce a voter-verified, auditable paper record of the votes cast in such elections, to require State election officials to audit the results of such elections prior to certifying the results, to provide grants to States to improve voting system security, and for other purposes.', 'latest_major_action_data': '2017-11-07', 'latest_major_action': 'Referred to the Committee on House Administration, and in addition to the Committee on Science, Space, and Technology, for a period to be subsequently determined by the Speaker, in each case for consideration of such provisions as fall within the jurisdiction of the committee concerned.'}, {'bill_id': 'hres611-115', 'bill_title': 'Recognizing the denial of full voting rights in Congress for veterans and their families who are District of Columbia residents.', 'latest_major_action_data': '2017-11-07', 'latest_major_action': \"Referred to the Committee on Oversight and Government Reform, and in addition to the Committee on Veterans' Affairs, for a period to be subsequently determined by the Speaker, in each case for consideration of such provisions as fall within the jurisdiction of the committee concerned.\"}]\n"
     ]
    }
   ],
   "source": [
    "# Main program\n",
    "\n",
    "import json\n",
    "import requests\n",
    "\n",
    "\n",
    "print('#####Main Menu#####')\n",
    "print('''\n",
    "1. Get recent bills\n",
    "2. xxx\n",
    "3. xxx\n",
    "''')\n",
    "\n",
    "user_input = input('Please enter a choice: ')\n",
    "if user_input == \"1\":\n",
    "    query = input('What subjects are you interest in: ')\n",
    "    bill_data = getrecentbill(query)\n",
    "    print(bill_data)\n",
    "    \n",
    "\n"
   ]
  },
  {
   "cell_type": "code",
   "execution_count": null,
   "metadata": {
    "collapsed": true
   },
   "outputs": [],
   "source": []
  },
  {
   "cell_type": "code",
   "execution_count": null,
   "metadata": {
    "collapsed": true
   },
   "outputs": [],
   "source": []
  }
 ],
 "metadata": {
  "kernelspec": {
   "display_name": "Python 3",
   "language": "python",
   "name": "python3"
  },
  "language_info": {
   "codemirror_mode": {
    "name": "ipython",
    "version": 3
   },
   "file_extension": ".py",
   "mimetype": "text/x-python",
   "name": "python",
   "nbconvert_exporter": "python",
   "pygments_lexer": "ipython3",
   "version": "3.6.1"
  }
 },
 "nbformat": 4,
 "nbformat_minor": 2
}
